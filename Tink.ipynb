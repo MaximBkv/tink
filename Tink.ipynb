{
 "cells": [
  {
   "cell_type": "code",
   "execution_count": 1,
   "id": "3014e822-6fc0-45ac-b55a-14cae54d0c5f",
   "metadata": {},
   "outputs": [],
   "source": [
    "import re\n",
    "import numpy as np\n",
    "import random"
   ]
  },
  {
   "cell_type": "code",
   "execution_count": 2,
   "id": "59953ef5-d9f3-4550-bd79-8263a9fc66d6",
   "metadata": {},
   "outputs": [],
   "source": [
    "def reading():\n",
    "    name_training = str(input('введите название файла train '))\n",
    "    f = open('{}'.format(name_training))\n",
    "    text = ''\n",
    "    for line in f.readlines():\n",
    "        text+=str(line)\n",
    "    f.close()\n",
    "    return text"
   ]
  },
  {
   "cell_type": "code",
   "execution_count": 3,
   "id": "3a143976-2704-4c51-a976-096a930da213",
   "metadata": {},
   "outputs": [],
   "source": [
    "def formatting(text):\n",
    "    text = text.lower()\n",
    "    text = text.strip()\n",
    "    text = re.split(\"[^a-zа-яё]+\",text)\n",
    "    return text"
   ]
  },
  {
   "cell_type": "code",
   "execution_count": 4,
   "id": "f720bde5-cbf7-4f46-bd34-ec10271969c3",
   "metadata": {},
   "outputs": [],
   "source": [
    "def tokenization(text):\n",
    "    dictionary = {}\n",
    "    for i in range(len(text)-1):\n",
    "        if dictionary.get(text[i],0):\n",
    "            pointer = dictionary.get(text[i])\n",
    "            pointer.append(text[i+1])\n",
    "            dictionary[text[i]]=pointer\n",
    "        else:\n",
    "            dictionary[text[i]]=[text[i+1]]\n",
    "    return dictionary"
   ]
  },
  {
   "cell_type": "code",
   "execution_count": 5,
   "id": "d66c1d86-a93c-4af2-8bbc-088e4409ffa8",
   "metadata": {},
   "outputs": [],
   "source": [
    "def save(token):\n",
    "    name_file = str(input('введите название модели сохранения '))\n",
    "    return np.save('{}.npy' .format(name_file), token) "
   ]
  },
  {
   "cell_type": "code",
   "execution_count": 6,
   "id": "b4044b02-60cf-42e0-aa85-89ce96b573f9",
   "metadata": {},
   "outputs": [],
   "source": [
    "def load():\n",
    "    name_file = str(input('введите название модели зарузки '))\n",
    "    read_dictionary = np.load('{}.npy' .format(name_file)).item()\n",
    "    return read_dictionary "
   ]
  },
  {
   "cell_type": "code",
   "execution_count": 7,
   "id": "69166c3c-d1cd-4065-a2aa-7a7da4b8dcb4",
   "metadata": {},
   "outputs": [],
   "source": [
    "def generation(model):\n",
    "    read_dictionary = model\n",
    "    sequence=''\n",
    "    length_text=int(input('введите длину генерируемой последовательности '))\n",
    "    for i in range(length_text):\n",
    "        if i==0:\n",
    "            elem_ahead = random.choice(list(read_dictionary.keys()))\n",
    "            sequence += elem_ahead\n",
    "            sequence += ' '\n",
    "        else:\n",
    "            elem_now = random.choice(read_dictionary.setdefault(elem_ahead))\n",
    "            sequence += elem_now\n",
    "            sequence += ' '\n",
    "            elem_ahead = elem_now \n",
    "    return sequence"
   ]
  },
  {
   "cell_type": "code",
   "execution_count": 13,
   "id": "9ce9490e-98c7-4578-99a1-0b3a11ac8233",
   "metadata": {},
   "outputs": [
    {
     "name": "stdin",
     "output_type": "stream",
     "text": [
      "введите название файла train  text_ru\n",
      "введите название модели сохранения  model_ru\n"
     ]
    }
   ],
   "source": [
    "text = reading()\n",
    "text_f = formatting(text)\n",
    "token = tokenization(text_f)\n",
    "name_file = save(token)"
   ]
  },
  {
   "cell_type": "code",
   "execution_count": 16,
   "id": "4683c2ba-ccfb-4358-b936-6b3fb0b16b6e",
   "metadata": {},
   "outputs": [
    {
     "name": "stdin",
     "output_type": "stream",
     "text": [
      "введите название модели зарузки  model_ru\n"
     ]
    }
   ],
   "source": [
    "model = load()"
   ]
  },
  {
   "cell_type": "code",
   "execution_count": null,
   "id": "af28691b-0103-4e57-8286-7c2461335661",
   "metadata": {},
   "outputs": [],
   "source": [
    "print(generation(model))"
   ]
  },
  {
   "cell_type": "code",
   "execution_count": null,
   "id": "b1cac92d-bafa-4eea-b919-a1412b7c3667",
   "metadata": {},
   "outputs": [],
   "source": []
  },
  {
   "cell_type": "code",
   "execution_count": null,
   "id": "0289c690-6c06-4614-9069-9c02e00959ac",
   "metadata": {},
   "outputs": [],
   "source": []
  }
 ],
 "metadata": {
  "kernelspec": {
   "display_name": "Python 3 (ipykernel)",
   "language": "python",
   "name": "python3"
  },
  "language_info": {
   "codemirror_mode": {
    "name": "ipython",
    "version": 3
   },
   "file_extension": ".py",
   "mimetype": "text/x-python",
   "name": "python",
   "nbconvert_exporter": "python",
   "pygments_lexer": "ipython3",
   "version": "3.9.5"
  }
 },
 "nbformat": 4,
 "nbformat_minor": 5
}
